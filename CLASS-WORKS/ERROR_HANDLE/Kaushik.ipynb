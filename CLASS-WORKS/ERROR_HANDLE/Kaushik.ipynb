{
 "cells": [
  {
   "cell_type": "code",
   "execution_count": 2,
   "id": "7f24d9b1-ae96-4ee2-8d9c-3330765ad04b",
   "metadata": {},
   "outputs": [
    {
     "name": "stdout",
     "output_type": "stream",
     "text": [
      "we are in module\n"
     ]
    }
   ],
   "source": [
    "print('we are in module')\n",
    "import test"
   ]
  },
  {
   "cell_type": "code",
   "execution_count": null,
   "id": "7c490f43-e3b1-4ef0-8df3-83b1a62de631",
   "metadata": {},
   "outputs": [],
   "source": []
  }
 ],
 "metadata": {
  "kernelspec": {
   "display_name": "Python 3 (ipykernel)",
   "language": "python",
   "name": "python3"
  },
  "language_info": {
   "codemirror_mode": {
    "name": "ipython",
    "version": 3
   },
   "file_extension": ".py",
   "mimetype": "text/x-python",
   "name": "python",
   "nbconvert_exporter": "python",
   "pygments_lexer": "ipython3",
   "version": "3.8.10"
  }
 },
 "nbformat": 4,
 "nbformat_minor": 5
}
