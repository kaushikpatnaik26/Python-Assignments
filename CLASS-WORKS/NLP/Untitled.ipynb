{
 "cells": [
  {
   "cell_type": "code",
   "execution_count": null,
   "id": "f20fd194-8ec6-449e-ab75-b2d1d4d2f499",
   "metadata": {},
   "outputs": [],
   "source": [
    "from textblob import Textblob\n",
    "# from nltk.corpus import stopwords\n",
    "\n",
    "text = \"today is a good day. Tommorow is likely to be a bad day. \"\n",
    "blob = Textblob(text)\n",
    "print(blob.sentences)"
   ]
  }
 ],
 "metadata": {
  "kernelspec": {
   "display_name": "Python 3 (ipykernel)",
   "language": "python",
   "name": "python3"
  },
  "language_info": {
   "codemirror_mode": {
    "name": "ipython",
    "version": 3
   },
   "file_extension": ".py",
   "mimetype": "text/x-python",
   "name": "python",
   "nbconvert_exporter": "python",
   "pygments_lexer": "ipython3",
   "version": "3.8.10"
  }
 },
 "nbformat": 4,
 "nbformat_minor": 5
}
